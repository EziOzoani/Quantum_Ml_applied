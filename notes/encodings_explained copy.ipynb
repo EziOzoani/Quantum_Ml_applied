{
 "cells": [
  {
   "attachments": {},
   "cell_type": "markdown",
   "metadata": {},
   "source": [
    "## Amplitude encoding\n",
    "\n",
    "Amplitude encoding encodes data into the amplitudes of a quantum state. It represents a normalised classical N-dimensional data point, x , as the amplitudes of a n-qubit quantum state, \n",
    ":\n",
    "\n",
    "To encode the classical dataset X described above, we concatenate all  $N$-dimensional data points into one amplitude vector, of length NxM:\n",
    "\n"
   ]
  },
  {
   "attachments": {},
   "cell_type": "markdown",
   "metadata": {},
   "source": [
    "e.g X = {x1 = (1.5,0), x2 = (-2,3)}\n",
    "a= 1/ sqrt(15.25)[1.5,0,-2,3]\n",
    "\n",
    "the resulting 2-qubit quantum state: "
   ]
  },
  {
   "cell_type": "code",
   "execution_count": null,
   "metadata": {},
   "outputs": [],
   "source": [
    "\n",
    "desired_state = [\n",
    "    1 / math.sqrt(15.25) * 1.5,\n",
    "    0,\n",
    "    1 / math.sqrt(15.25) * -2,\n",
    "    1 / math.sqrt(15.25) * 3]\n",
    "\n",
    "qc = QuantumCircuit(2)\n",
    "qc.initialize(desired_state, [0,1])\n",
    "\n",
    "qc.decompose().decompose().decompose().decompose().decompose().draw()"
   ]
  },
  {
   "cell_type": "markdown",
   "metadata": {},
   "source": []
  },
  {
   "cell_type": "code",
   "execution_count": null,
   "metadata": {},
   "outputs": [],
   "source": [
    "def encode ( classical_data ):\n",
    "    # sum up every row of the matrix to get the lengths f o r each\n",
    "    # row via a_ij ∗ a_ij = A_i\n",
    "    amplitudes = np . sqrt (np . einsum ( ' i j , i j −>i ' , classical_data ,\n",
    "    classical_data ) )\n",
    "    # set zero amplitudes to 1 to prevent d i v i s i o n through zero\n",
    "    amplitudes [ amplitudes == 0] = 1\n",
    "    # normalise the data by dividing the o r i g i n a l through\n",
    "    # the amplitude\n",
    "    normalised_data = classical_data / amplitudes [ : , np . newaxis ]\n",
    "    return normalised_data"
   ]
  },
  {
   "cell_type": "code",
   "execution_count": null,
   "metadata": {},
   "outputs": [],
   "source": [
    "## ampltiude encoding pros"
   ]
  },
  {
   "attachments": {},
   "cell_type": "markdown",
   "metadata": {},
   "source": [
    "### ampltiude encoding pros\n",
    "The advantage of amplitude encoding is that it only requires log(NM)\n",
    " qubits to encode. However, subsequent algorithms must operate on the amplitudes of a quantum state, and methods to prepare and measure the quantum states tend not to be efficient."
   ]
  },
  {
   "cell_type": "markdown",
   "metadata": {},
   "source": []
  },
  {
   "attachments": {},
   "cell_type": "markdown",
   "metadata": {},
   "source": [
    "## Arbitrary Encoding\n",
    "aka using different orders of ZFeature Mapping \n",
    "\n",
    " it ius a s circuit with 3 qubits, only encodes a data point of 3 features, despite having 6 parameterized gates:\n",
    "\n",
    " angle encoding, it only encodes one data point at a time, rather than a whole dataset. \n"
   ]
  },
  {
   "cell_type": "code",
   "execution_count": null,
   "metadata": {},
   "outputs": [],
   "source": [
    "# One can encode the data point x = [0.1, 0.2, 0.3, 0.4, 0.5, 0.6, 0.7, 0.8, 0.9, 1.0, 1.1, 1.2]  with 12 features, using each of the parameterized gates to encode a different feature.\n",
    "\n",
    "x = [0.1, 0.2, 0.3, 0.4, 0.5, 0.6, 0.7, 0.8, 0.9, 1.0, 1.1, 1.2]\n",
    "encode = circuit.bind_parameters(x)\n",
    "encode.decompose().draw()"
   ]
  }
 ],
 "metadata": {
  "language_info": {
   "name": "python"
  },
  "orig_nbformat": 4
 },
 "nbformat": 4,
 "nbformat_minor": 2
}
